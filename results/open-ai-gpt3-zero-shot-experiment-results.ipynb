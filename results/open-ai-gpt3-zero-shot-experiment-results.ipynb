{
 "cells": [
  {
   "cell_type": "code",
   "execution_count": 1,
   "id": "4e81079e",
   "metadata": {
    "is_executing": true
   },
   "outputs": [],
   "source": [
    "__author__ = \"Mars Gokturk Buchholz\"\n",
    "__version__ = \"CS224u, Stanford, Winter 2023\""
   ]
  },
  {
   "cell_type": "code",
   "execution_count": null,
   "id": "0379e568",
   "metadata": {
    "ExecuteTime": {
     "end_time": "2023-06-10T02:55:37.252712Z",
     "start_time": "2023-06-10T02:55:34.452758Z"
    }
   },
   "outputs": [],
   "source": [
    "import sys\n",
    "sys.path.append('../api_requests/')\n",
    "import numpy as np\n",
    "import pandas as pd\n",
    "pd.set_option(\"display.max_colwidth\", None)\n",
    "from open_ai_client import LiarDataset"
   ]
  },
  {
   "cell_type": "code",
   "execution_count": 3,
   "id": "8e080f81",
   "metadata": {
    "ExecuteTime": {
     "end_time": "2023-05-14T23:47:13.792449Z",
     "start_time": "2023-05-14T23:47:13.747720Z"
    }
   },
   "outputs": [
    {
     "data": {
      "text/html": [
       "<div>\n",
       "<style scoped>\n",
       "    .dataframe tbody tr th:only-of-type {\n",
       "        vertical-align: middle;\n",
       "    }\n",
       "\n",
       "    .dataframe tbody tr th {\n",
       "        vertical-align: top;\n",
       "    }\n",
       "\n",
       "    .dataframe thead th {\n",
       "        text-align: right;\n",
       "    }\n",
       "</style>\n",
       "<table border=\"1\" class=\"dataframe\">\n",
       "  <thead>\n",
       "    <tr style=\"text-align: right;\">\n",
       "      <th></th>\n",
       "      <th>statement</th>\n",
       "      <th>true_label</th>\n",
       "      <th>idx</th>\n",
       "      <th>predicted_label</th>\n",
       "      <th>evidence</th>\n",
       "    </tr>\n",
       "  </thead>\n",
       "  <tbody>\n",
       "    <tr>\n",
       "      <th>0</th>\n",
       "      <td>Building a wall on the U.S.-Mexico border will take literally years.</td>\n",
       "      <td>true</td>\n",
       "      <td>0</td>\n",
       "      <td>true</td>\n",
       "      <td>\"according to a report by the government accountability office, it took an average of 4.5 years to complete the construction of the 654 miles of fencing already in place along the border as of 2015.\" (source: npr, \"how long would it take to build trump's wall?,\" january 25, 2017)</td>\n",
       "    </tr>\n",
       "    <tr>\n",
       "      <th>1</th>\n",
       "      <td>Wisconsin is on pace to double the number of layoffs this year.</td>\n",
       "      <td>false</td>\n",
       "      <td>1</td>\n",
       "      <td>mostly-true</td>\n",
       "      <td>according to the wisconsin department of workforce development, there were 10,872 layoffs in the state from january to august 2020, compared to 5,038 layoffs during the same period in 2019. this represents an increase of over 100%, which supports the statement. however, it is important to note that the covid-19 pandemic has had a significant impact on the economy and job market, which is not mentioned in the statement. source: https://www.jsonline.com/story/money/business/2020/09/23/wisconsin-layoffs-2020-could-double-last-years-total/5867588002/</td>\n",
       "    </tr>\n",
       "    <tr>\n",
       "      <th>2</th>\n",
       "      <td>Says John McCain has done nothing to help the vets.</td>\n",
       "      <td>false</td>\n",
       "      <td>2</td>\n",
       "      <td>false</td>\n",
       "      <td>according to a politifact article from august 2018, john mccain was a strong advocate for veterans and worked on several pieces of legislation to improve their care and benefits. he also served in the military himself and was a prisoner of war in vietnam.</td>\n",
       "    </tr>\n",
       "    <tr>\n",
       "      <th>3</th>\n",
       "      <td>Suzanne Bonamici supports a plan that will cut choice for Medicare Advantage seniors.</td>\n",
       "      <td>half-true</td>\n",
       "      <td>3</td>\n",
       "      <td>false</td>\n",
       "      <td>according to politifact, suzanne bonamici has not supported any plan that would cut choice for medicare advantage seniors. in fact, she has supported legislation to protect and strengthen medicare advantage. (source: https://www.politifact.com/factchecks/2020/oct/08/congressional-leadership-fund/ad-twists-bonamicis-record-medicare-advantage/)</td>\n",
       "    </tr>\n",
       "    <tr>\n",
       "      <th>4</th>\n",
       "      <td>When asked by a reporter whether hes at the center of a criminal scheme to violate campaign laws, Gov. Scott Walker nodded yes.</td>\n",
       "      <td>pants-fire</td>\n",
       "      <td>4</td>\n",
       "      <td>false</td>\n",
       "      <td>the statement is not accurate. there is no evidence that gov. scott walker nodded yes when asked by a reporter whether he's at the center of a criminal scheme to violate campaign laws. in fact, the statement seems to be a fabrication as there is no record of such an interaction between gov. walker and a reporter.</td>\n",
       "    </tr>\n",
       "  </tbody>\n",
       "</table>\n",
       "</div>"
      ],
      "text/plain": [
       "                                                                                                                         statement  \\\n",
       "0                                                             Building a wall on the U.S.-Mexico border will take literally years.   \n",
       "1                                                                  Wisconsin is on pace to double the number of layoffs this year.   \n",
       "2                                                                              Says John McCain has done nothing to help the vets.   \n",
       "3                                            Suzanne Bonamici supports a plan that will cut choice for Medicare Advantage seniors.   \n",
       "4  When asked by a reporter whether hes at the center of a criminal scheme to violate campaign laws, Gov. Scott Walker nodded yes.   \n",
       "\n",
       "   true_label  idx predicted_label  \\\n",
       "0        true    0            true   \n",
       "1       false    1     mostly-true   \n",
       "2       false    2           false   \n",
       "3   half-true    3           false   \n",
       "4  pants-fire    4           false   \n",
       "\n",
       "                                                                                                                                                                                                                                                                                                                                                                                                                                                                                                                                                                   evidence  \n",
       "0                                                                                                                                                                                                                                                                                  \"according to a report by the government accountability office, it took an average of 4.5 years to complete the construction of the 654 miles of fencing already in place along the border as of 2015.\" (source: npr, \"how long would it take to build trump's wall?,\" january 25, 2017)  \n",
       "1  according to the wisconsin department of workforce development, there were 10,872 layoffs in the state from january to august 2020, compared to 5,038 layoffs during the same period in 2019. this represents an increase of over 100%, which supports the statement. however, it is important to note that the covid-19 pandemic has had a significant impact on the economy and job market, which is not mentioned in the statement. source: https://www.jsonline.com/story/money/business/2020/09/23/wisconsin-layoffs-2020-could-double-last-years-total/5867588002/  \n",
       "2                                                                                                                                                                                                                                                                                                           according to a politifact article from august 2018, john mccain was a strong advocate for veterans and worked on several pieces of legislation to improve their care and benefits. he also served in the military himself and was a prisoner of war in vietnam.  \n",
       "3                                                                                                                                                                                                                  according to politifact, suzanne bonamici has not supported any plan that would cut choice for medicare advantage seniors. in fact, she has supported legislation to protect and strengthen medicare advantage. (source: https://www.politifact.com/factchecks/2020/oct/08/congressional-leadership-fund/ad-twists-bonamicis-record-medicare-advantage/)  \n",
       "4                                                                                                                                                                                                                                                the statement is not accurate. there is no evidence that gov. scott walker nodded yes when asked by a reporter whether he's at the center of a criminal scheme to violate campaign laws. in fact, the statement seems to be a fabrication as there is no record of such an interaction between gov. walker and a reporter.  "
      ]
     },
     "execution_count": 3,
     "metadata": {},
     "output_type": "execute_result"
    }
   ],
   "source": [
    "zero_shot_results = pd.read_csv(\"../output_data/all_test_results.csv\", index_col=0)\n",
    "test_ds = LiarDataset(\"../input_data/test.tsv\", \"liar_test\").get()\n",
    "test_ds = test_ds[[\"statement\", \"label\"]]\n",
    "test_ds = test_ds.rename(columns={\"label\": \"true_label\"})\n",
    "df = test_ds.merge(zero_shot_results, left_index=True, right_on=\"idx\")\n",
    "df.head()"
   ]
  },
  {
   "cell_type": "code",
   "execution_count": 4,
   "id": "5f41f618",
   "metadata": {
    "ExecuteTime": {
     "end_time": "2023-05-14T23:47:16.501476Z",
     "start_time": "2023-05-14T23:47:16.488402Z"
    }
   },
   "outputs": [
    {
     "data": {
      "text/plain": [
       "mostly-true    580\n",
       "false          331\n",
       "pants-fire     133\n",
       "barely-true    114\n",
       "true            71\n",
       "half-true       35\n",
       "undefined        3\n",
       "Name: predicted_label, dtype: int64"
      ]
     },
     "execution_count": 4,
     "metadata": {},
     "output_type": "execute_result"
    }
   ],
   "source": [
    "df[\"predicted_label\"].value_counts()"
   ]
  },
  {
   "cell_type": "code",
   "execution_count": 5,
   "id": "33cbf4be",
   "metadata": {
    "ExecuteTime": {
     "end_time": "2023-05-14T23:47:17.473234Z",
     "start_time": "2023-05-14T23:47:17.460976Z"
    }
   },
   "outputs": [
    {
     "data": {
      "text/plain": [
       "0.266"
      ]
     },
     "execution_count": 5,
     "metadata": {},
     "output_type": "execute_result"
    }
   ],
   "source": [
    "accuracy_score = np.round(np.sum(df[\"true_label\"] == df[\"predicted_label\"]) / df.shape[0], 3)\n",
    "accuracy_score"
   ]
  },
  {
   "cell_type": "markdown",
   "id": "286fc282",
   "metadata": {},
   "source": [
    "## Error Analysis"
   ]
  },
  {
   "cell_type": "code",
   "execution_count": 6,
   "id": "156e2af2",
   "metadata": {
    "ExecuteTime": {
     "end_time": "2023-05-14T23:47:18.949547Z",
     "start_time": "2023-05-14T23:47:18.943690Z"
    }
   },
   "outputs": [
    {
     "data": {
      "text/plain": [
       "mostly-true    580\n",
       "false          331\n",
       "pants-fire     133\n",
       "barely-true    114\n",
       "true            71\n",
       "half-true       35\n",
       "undefined        3\n",
       "Name: predicted_label, dtype: int64"
      ]
     },
     "execution_count": 6,
     "metadata": {},
     "output_type": "execute_result"
    }
   ],
   "source": [
    "df[\"predicted_label\"].value_counts()"
   ]
  },
  {
   "cell_type": "code",
   "execution_count": 7,
   "id": "3dbadf04",
   "metadata": {
    "ExecuteTime": {
     "end_time": "2023-05-14T23:47:19.901599Z",
     "start_time": "2023-05-14T23:47:19.886555Z"
    }
   },
   "outputs": [
    {
     "data": {
      "text/plain": [
       "half-true      265\n",
       "false          249\n",
       "mostly-true    241\n",
       "barely-true    212\n",
       "true           208\n",
       "pants-fire      92\n",
       "Name: true_label, dtype: int64"
      ]
     },
     "execution_count": 7,
     "metadata": {},
     "output_type": "execute_result"
    }
   ],
   "source": [
    "df[\"true_label\"].value_counts()"
   ]
  },
  {
   "cell_type": "markdown",
   "id": "91c14f75",
   "metadata": {},
   "source": [
    "### False Negatives"
   ]
  },
  {
   "cell_type": "code",
   "execution_count": 8,
   "id": "eaf24052",
   "metadata": {
    "ExecuteTime": {
     "end_time": "2023-05-14T23:47:25.634830Z",
     "start_time": "2023-05-14T23:47:25.624813Z"
    }
   },
   "outputs": [
    {
     "name": "stdout",
     "output_type": "stream",
     "text": [
      "<class 'pandas.core.frame.DataFrame'>\n",
      "Int64Index: 91 entries, 6 to 1175\n",
      "Data columns (total 5 columns):\n",
      " #   Column           Non-Null Count  Dtype \n",
      "---  ------           --------------  ----- \n",
      " 0   statement        91 non-null     object\n",
      " 1   true_label       91 non-null     object\n",
      " 2   idx              91 non-null     int64 \n",
      " 3   predicted_label  91 non-null     object\n",
      " 4   evidence         91 non-null     object\n",
      "dtypes: int64(1), object(4)\n",
      "memory usage: 4.3+ KB\n"
     ]
    }
   ],
   "source": [
    "FN = df[(df[\"true_label\"].isin([\"true\", \"mostly-true\"])) & \\\n",
    "              (df[\"predicted_label\"].isin([\"pants-fire\", \"false\"]))]\n",
    "FN.info()         "
   ]
  },
  {
   "cell_type": "code",
   "execution_count": 9,
   "id": "ff54acc0",
   "metadata": {
    "ExecuteTime": {
     "end_time": "2023-05-14T23:47:26.132786Z",
     "start_time": "2023-05-14T23:47:26.123222Z"
    }
   },
   "outputs": [
    {
     "data": {
      "text/html": [
       "<div>\n",
       "<style scoped>\n",
       "    .dataframe tbody tr th:only-of-type {\n",
       "        vertical-align: middle;\n",
       "    }\n",
       "\n",
       "    .dataframe tbody tr th {\n",
       "        vertical-align: top;\n",
       "    }\n",
       "\n",
       "    .dataframe thead th {\n",
       "        text-align: right;\n",
       "    }\n",
       "</style>\n",
       "<table border=\"1\" class=\"dataframe\">\n",
       "  <thead>\n",
       "    <tr style=\"text-align: right;\">\n",
       "      <th></th>\n",
       "      <th>statement</th>\n",
       "      <th>true_label</th>\n",
       "      <th>idx</th>\n",
       "      <th>predicted_label</th>\n",
       "      <th>evidence</th>\n",
       "    </tr>\n",
       "  </thead>\n",
       "  <tbody>\n",
       "    <tr>\n",
       "      <th>779</th>\n",
       "      <td>Ohio currently ranks 50th out of all states in income growth.</td>\n",
       "      <td>mostly-true</td>\n",
       "      <td>856</td>\n",
       "      <td>false</td>\n",
       "      <td>according to the bureau of economic analysis, ohio's personal income growth rate was 4.5% in 2019, which ranked 23rd among all states (https://www.bea.gov/news/2020/personal-income-2019-state-and-metro-area).</td>\n",
       "    </tr>\n",
       "    <tr>\n",
       "      <th>194</th>\n",
       "      <td>John McCain says it's okay with him if the U.S. spends the next thousand years in Iraq.</td>\n",
       "      <td>true</td>\n",
       "      <td>271</td>\n",
       "      <td>pants-fire</td>\n",
       "      <td>there is no evidence that john mccain ever made this statement. in fact, he was a vocal critic of the iraq war and advocated for a timeline for withdrawal.</td>\n",
       "    </tr>\n",
       "    <tr>\n",
       "      <th>841</th>\n",
       "      <td>There has never been a panther attack in the history of Florida.</td>\n",
       "      <td>mostly-true</td>\n",
       "      <td>918</td>\n",
       "      <td>false</td>\n",
       "      <td>according to the florida fish and wildlife conservation commission, there have been 33 documented panther attacks on humans in florida since 1900. (source: tampa bay times, \"fact-checking ron desantis' statements on the environment, economy and more,\" october 22, 2018)</td>\n",
       "    </tr>\n",
       "    <tr>\n",
       "      <th>344</th>\n",
       "      <td>The U.S. doesnt make television sets anymore.</td>\n",
       "      <td>true</td>\n",
       "      <td>421</td>\n",
       "      <td>false</td>\n",
       "      <td>according to a report by the consumer technology association, in 2019, the u.s. produced and shipped over 33 million television sets. (source: https://www.cta.tech/news/press-releases/2020/january/cta-reports-us-television-shipments-increased-2-9-.aspx)</td>\n",
       "    </tr>\n",
       "    <tr>\n",
       "      <th>1159</th>\n",
       "      <td>If you want to vote in Texas, you can use a concealed-weapon permit as a valid form of identification, but a valid student ID isnt good enough.</td>\n",
       "      <td>true</td>\n",
       "      <td>1236</td>\n",
       "      <td>false</td>\n",
       "      <td>according to the texas secretary of state's website, a concealed-weapon permit cannot be used as a form of identification for voting. acceptable forms of identification include a texas driver's license, a texas election identification certificate, a texas personal identification card, a texas handgun license, a us military identification card, a us citizenship certificate, or a us passport. (source: https://www.votetexas.gov/register-to-vote/need-id.html)</td>\n",
       "    </tr>\n",
       "  </tbody>\n",
       "</table>\n",
       "</div>"
      ],
      "text/plain": [
       "                                                                                                                                            statement  \\\n",
       "779                                                                                     Ohio currently ranks 50th out of all states in income growth.   \n",
       "194                                                           John McCain says it's okay with him if the U.S. spends the next thousand years in Iraq.   \n",
       "841                                                                                  There has never been a panther attack in the history of Florida.   \n",
       "344                                                                                                     The U.S. doesnt make television sets anymore.   \n",
       "1159  If you want to vote in Texas, you can use a concealed-weapon permit as a valid form of identification, but a valid student ID isnt good enough.   \n",
       "\n",
       "       true_label   idx predicted_label  \\\n",
       "779   mostly-true   856           false   \n",
       "194          true   271      pants-fire   \n",
       "841   mostly-true   918           false   \n",
       "344          true   421           false   \n",
       "1159         true  1236           false   \n",
       "\n",
       "                                                                                                                                                                                                                                                                                                                                                                                                                                                                         evidence  \n",
       "779                                                                                                                                                                                                                                                              according to the bureau of economic analysis, ohio's personal income growth rate was 4.5% in 2019, which ranked 23rd among all states (https://www.bea.gov/news/2020/personal-income-2019-state-and-metro-area).  \n",
       "194                                                                                                                                                                                                                                                                                                                   there is no evidence that john mccain ever made this statement. in fact, he was a vocal critic of the iraq war and advocated for a timeline for withdrawal.  \n",
       "841                                                                                                                                                                                                 according to the florida fish and wildlife conservation commission, there have been 33 documented panther attacks on humans in florida since 1900. (source: tampa bay times, \"fact-checking ron desantis' statements on the environment, economy and more,\" october 22, 2018)  \n",
       "344                                                                                                                                                                                                                 according to a report by the consumer technology association, in 2019, the u.s. produced and shipped over 33 million television sets. (source: https://www.cta.tech/news/press-releases/2020/january/cta-reports-us-television-shipments-increased-2-9-.aspx)  \n",
       "1159  according to the texas secretary of state's website, a concealed-weapon permit cannot be used as a form of identification for voting. acceptable forms of identification include a texas driver's license, a texas election identification certificate, a texas personal identification card, a texas handgun license, a us military identification card, a us citizenship certificate, or a us passport. (source: https://www.votetexas.gov/register-to-vote/need-id.html)  "
      ]
     },
     "execution_count": 9,
     "metadata": {},
     "output_type": "execute_result"
    }
   ],
   "source": [
    "FN.sample(5) #idx=943 in Appendix"
   ]
  },
  {
   "cell_type": "markdown",
   "id": "a27cba0b",
   "metadata": {},
   "source": [
    "### False positives"
   ]
  },
  {
   "cell_type": "code",
   "execution_count": 10,
   "id": "ab0abfce",
   "metadata": {
    "ExecuteTime": {
     "end_time": "2023-05-14T23:47:27.089474Z",
     "start_time": "2023-05-14T23:47:27.074133Z"
    }
   },
   "outputs": [
    {
     "name": "stdout",
     "output_type": "stream",
     "text": [
      "<class 'pandas.core.frame.DataFrame'>\n",
      "Int64Index: 106 entries, 1 to 1189\n",
      "Data columns (total 5 columns):\n",
      " #   Column           Non-Null Count  Dtype \n",
      "---  ------           --------------  ----- \n",
      " 0   statement        106 non-null    object\n",
      " 1   true_label       106 non-null    object\n",
      " 2   idx              106 non-null    int64 \n",
      " 3   predicted_label  106 non-null    object\n",
      " 4   evidence         106 non-null    object\n",
      "dtypes: int64(1), object(4)\n",
      "memory usage: 5.0+ KB\n"
     ]
    }
   ],
   "source": [
    "FP = df[(df[\"true_label\"].isin([\"pants-fire\", \"false\"])) & \\\n",
    "     (df[\"predicted_label\"].isin([\"true\", \"mostly-true\"]))]\n",
    "FP.info()  "
   ]
  },
  {
   "cell_type": "code",
   "execution_count": 11,
   "id": "208c8718",
   "metadata": {
    "ExecuteTime": {
     "end_time": "2023-05-14T23:47:27.975541Z",
     "start_time": "2023-05-14T23:47:27.967676Z"
    }
   },
   "outputs": [
    {
     "data": {
      "text/html": [
       "<div>\n",
       "<style scoped>\n",
       "    .dataframe tbody tr th:only-of-type {\n",
       "        vertical-align: middle;\n",
       "    }\n",
       "\n",
       "    .dataframe tbody tr th {\n",
       "        vertical-align: top;\n",
       "    }\n",
       "\n",
       "    .dataframe thead th {\n",
       "        text-align: right;\n",
       "    }\n",
       "</style>\n",
       "<table border=\"1\" class=\"dataframe\">\n",
       "  <thead>\n",
       "    <tr style=\"text-align: right;\">\n",
       "      <th></th>\n",
       "      <th>statement</th>\n",
       "      <th>true_label</th>\n",
       "      <th>idx</th>\n",
       "      <th>predicted_label</th>\n",
       "      <th>evidence</th>\n",
       "    </tr>\n",
       "  </thead>\n",
       "  <tbody>\n",
       "    <tr>\n",
       "      <th>1</th>\n",
       "      <td>Wisconsin is on pace to double the number of layoffs this year.</td>\n",
       "      <td>false</td>\n",
       "      <td>1</td>\n",
       "      <td>mostly-true</td>\n",
       "      <td>according to the wisconsin department of workforce development, there were 10,872 layoffs in the state from january to august 2020, compared to 5,038 layoffs during the same period in 2019. this represents an increase of over 100%, which supports the statement. however, it is important to note that the covid-19 pandemic has had a significant impact on the economy and job market, which is not mentioned in the statement. source: https://www.jsonline.com/story/money/business/2020/09/23/wisconsin-layoffs-2020-could-double-last-years-total/5867588002/</td>\n",
       "    </tr>\n",
       "    <tr>\n",
       "      <th>16</th>\n",
       "      <td>Unfortunately we have documented instances where people defecated in the (Statehouse) building.</td>\n",
       "      <td>pants-fire</td>\n",
       "      <td>16</td>\n",
       "      <td>mostly-true</td>\n",
       "      <td>according to an article by politifact published on january 12, 2021, there were reports of individuals defecating in the capitol building during the january 6th insurrection. however, it is important to note that the statement only refers to the statehouse building, which may or may not be the same as the capitol building.</td>\n",
       "    </tr>\n",
       "    <tr>\n",
       "      <th>30</th>\n",
       "      <td>Its been since 1888 that a Senate of a different party than the president in the White House confirmed a Supreme Court nominee.</td>\n",
       "      <td>false</td>\n",
       "      <td>30</td>\n",
       "      <td>mostly-true</td>\n",
       "      <td>according to a fact-check by politifact, it is true that since 1888, there has only been one instance where a senate of a different party than the president confirmed a supreme court nominee. however, it is important to note that the political landscape was different in the late 19th century and early 20th century, and the current political climate may not necessarily follow historical precedent. (source: https://www.politifact.com/factchecks/2020/09/22/mitch-mcconnell/mcconnell-right-about-history-supreme-court-confir/)</td>\n",
       "    </tr>\n",
       "    <tr>\n",
       "      <th>31</th>\n",
       "      <td>Under Rosemary Lehmberg, the Travis County D.A.s office convened the grand jury that indicted Rick Perry.</td>\n",
       "      <td>false</td>\n",
       "      <td>31</td>\n",
       "      <td>true</td>\n",
       "      <td>\"under lehmberg, the travis county district attorney's office had convened a grand jury to investigate allegations that perry had abused his power by vetoing funding for the state's public integrity unit, which was housed in the travis county district attorney's office.\" - politifact, \"rick perry says he was right to veto funding for da's office,\" august 19, 2014.</td>\n",
       "    </tr>\n",
       "    <tr>\n",
       "      <th>54</th>\n",
       "      <td>When undocumented children are picked up at the border and told to appear later in court ... 90 percent do not then show up.</td>\n",
       "      <td>false</td>\n",
       "      <td>54</td>\n",
       "      <td>mostly-true</td>\n",
       "      <td>according to a report by the department of justice, from 2014 to 2016, approximately 90% of unaccompanied minors who were released from custody and given a notice to appear in court did not show up for their court hearings. (source: npr, \"fact check: how many migrant children get legal representation?\" june 21, 2018)</td>\n",
       "    </tr>\n",
       "  </tbody>\n",
       "</table>\n",
       "</div>"
      ],
      "text/plain": [
       "                                                                                                                          statement  \\\n",
       "1                                                                   Wisconsin is on pace to double the number of layoffs this year.   \n",
       "16                                  Unfortunately we have documented instances where people defecated in the (Statehouse) building.   \n",
       "30  Its been since 1888 that a Senate of a different party than the president in the White House confirmed a Supreme Court nominee.   \n",
       "31                        Under Rosemary Lehmberg, the Travis County D.A.s office convened the grand jury that indicted Rick Perry.   \n",
       "54     When undocumented children are picked up at the border and told to appear later in court ... 90 percent do not then show up.   \n",
       "\n",
       "    true_label  idx predicted_label  \\\n",
       "1        false    1     mostly-true   \n",
       "16  pants-fire   16     mostly-true   \n",
       "30       false   30     mostly-true   \n",
       "31       false   31            true   \n",
       "54       false   54     mostly-true   \n",
       "\n",
       "                                                                                                                                                                                                                                                                                                                                                                                                                                                                                                                                                                    evidence  \n",
       "1   according to the wisconsin department of workforce development, there were 10,872 layoffs in the state from january to august 2020, compared to 5,038 layoffs during the same period in 2019. this represents an increase of over 100%, which supports the statement. however, it is important to note that the covid-19 pandemic has had a significant impact on the economy and job market, which is not mentioned in the statement. source: https://www.jsonline.com/story/money/business/2020/09/23/wisconsin-layoffs-2020-could-double-last-years-total/5867588002/  \n",
       "16                                                                                                                                                                                                                                      according to an article by politifact published on january 12, 2021, there were reports of individuals defecating in the capitol building during the january 6th insurrection. however, it is important to note that the statement only refers to the statehouse building, which may or may not be the same as the capitol building.  \n",
       "30                            according to a fact-check by politifact, it is true that since 1888, there has only been one instance where a senate of a different party than the president confirmed a supreme court nominee. however, it is important to note that the political landscape was different in the late 19th century and early 20th century, and the current political climate may not necessarily follow historical precedent. (source: https://www.politifact.com/factchecks/2020/09/22/mitch-mcconnell/mcconnell-right-about-history-supreme-court-confir/)  \n",
       "31                                                                                                                                                                                            \"under lehmberg, the travis county district attorney's office had convened a grand jury to investigate allegations that perry had abused his power by vetoing funding for the state's public integrity unit, which was housed in the travis county district attorney's office.\" - politifact, \"rick perry says he was right to veto funding for da's office,\" august 19, 2014.  \n",
       "54                                                                                                                                                                                                                                            according to a report by the department of justice, from 2014 to 2016, approximately 90% of unaccompanied minors who were released from custody and given a notice to appear in court did not show up for their court hearings. (source: npr, \"fact check: how many migrant children get legal representation?\" june 21, 2018)  "
      ]
     },
     "execution_count": 11,
     "metadata": {},
     "output_type": "execute_result"
    }
   ],
   "source": [
    "FP.head()"
   ]
  },
  {
   "cell_type": "markdown",
   "id": "c94c2041",
   "metadata": {},
   "source": [
    "### No evidence cases"
   ]
  },
  {
   "cell_type": "code",
   "execution_count": 12,
   "id": "aebd7aa2",
   "metadata": {
    "ExecuteTime": {
     "end_time": "2023-05-14T23:47:29.771185Z",
     "start_time": "2023-05-14T23:47:29.756937Z"
    }
   },
   "outputs": [
    {
     "data": {
      "text/html": [
       "<div>\n",
       "<style scoped>\n",
       "    .dataframe tbody tr th:only-of-type {\n",
       "        vertical-align: middle;\n",
       "    }\n",
       "\n",
       "    .dataframe tbody tr th {\n",
       "        vertical-align: top;\n",
       "    }\n",
       "\n",
       "    .dataframe thead th {\n",
       "        text-align: right;\n",
       "    }\n",
       "</style>\n",
       "<table border=\"1\" class=\"dataframe\">\n",
       "  <thead>\n",
       "    <tr style=\"text-align: right;\">\n",
       "      <th></th>\n",
       "      <th>statement</th>\n",
       "      <th>true_label</th>\n",
       "      <th>idx</th>\n",
       "      <th>predicted_label</th>\n",
       "      <th>evidence</th>\n",
       "    </tr>\n",
       "  </thead>\n",
       "  <tbody>\n",
       "    <tr>\n",
       "      <th>12</th>\n",
       "      <td>Pepper ... kicked off a jock tax, imposing a levy on the sports and entertainment industry.</td>\n",
       "      <td>true</td>\n",
       "      <td>89</td>\n",
       "      <td>false</td>\n",
       "      <td>i don't have any evidence.</td>\n",
       "    </tr>\n",
       "    <tr>\n",
       "      <th>135</th>\n",
       "      <td>Loranne Ausley voted six times to tax your savings.</td>\n",
       "      <td>false</td>\n",
       "      <td>212</td>\n",
       "      <td>pants-fire</td>\n",
       "      <td>i don't have any evidence.</td>\n",
       "    </tr>\n",
       "    <tr>\n",
       "      <th>200</th>\n",
       "      <td>Barack Obama and Hillary Clinton have changed their positions (on the Iraq war withdrawal) to follow Chris Dodd.</td>\n",
       "      <td>half-true</td>\n",
       "      <td>277</td>\n",
       "      <td>false</td>\n",
       "      <td>i don't have any evidence.</td>\n",
       "    </tr>\n",
       "    <tr>\n",
       "      <th>205</th>\n",
       "      <td>Says Ron Johnson gave himself a $10 million sweetheart corporate payout</td>\n",
       "      <td>half-true</td>\n",
       "      <td>282</td>\n",
       "      <td>pants-fire</td>\n",
       "      <td>i don't have any evidence.</td>\n",
       "    </tr>\n",
       "    <tr>\n",
       "      <th>235</th>\n",
       "      <td>Foreign Chinese prostitution money is allegedly behind the groups funding Congressman Sean Duffys Republican Majority.</td>\n",
       "      <td>pants-fire</td>\n",
       "      <td>312</td>\n",
       "      <td>pants-fire</td>\n",
       "      <td>i don't have any evidence.</td>\n",
       "    </tr>\n",
       "  </tbody>\n",
       "</table>\n",
       "</div>"
      ],
      "text/plain": [
       "                                                                                                                  statement  \\\n",
       "12                              Pepper ... kicked off a jock tax, imposing a levy on the sports and entertainment industry.   \n",
       "135                                                                     Loranne Ausley voted six times to tax your savings.   \n",
       "200        Barack Obama and Hillary Clinton have changed their positions (on the Iraq war withdrawal) to follow Chris Dodd.   \n",
       "205                                                 Says Ron Johnson gave himself a $10 million sweetheart corporate payout   \n",
       "235  Foreign Chinese prostitution money is allegedly behind the groups funding Congressman Sean Duffys Republican Majority.   \n",
       "\n",
       "     true_label  idx predicted_label                    evidence  \n",
       "12         true   89           false  i don't have any evidence.  \n",
       "135       false  212      pants-fire  i don't have any evidence.  \n",
       "200   half-true  277           false  i don't have any evidence.  \n",
       "205   half-true  282      pants-fire  i don't have any evidence.  \n",
       "235  pants-fire  312      pants-fire  i don't have any evidence.  "
      ]
     },
     "execution_count": 12,
     "metadata": {},
     "output_type": "execute_result"
    }
   ],
   "source": [
    "df[df[\"evidence\"] == \"i don't have any evidence.\"].head() # idx=312"
   ]
  },
  {
   "cell_type": "markdown",
   "id": "74c075a7",
   "metadata": {},
   "source": [
    "### True Positives"
   ]
  },
  {
   "cell_type": "code",
   "execution_count": 13,
   "id": "851bd8cb",
   "metadata": {
    "ExecuteTime": {
     "end_time": "2023-05-14T23:47:31.213332Z",
     "start_time": "2023-05-14T23:47:31.202353Z"
    }
   },
   "outputs": [
    {
     "name": "stdout",
     "output_type": "stream",
     "text": [
      "<class 'pandas.core.frame.DataFrame'>\n",
      "Int64Index: 156 entries, 0 to 1176\n",
      "Data columns (total 5 columns):\n",
      " #   Column           Non-Null Count  Dtype \n",
      "---  ------           --------------  ----- \n",
      " 0   statement        156 non-null    object\n",
      " 1   true_label       156 non-null    object\n",
      " 2   idx              156 non-null    int64 \n",
      " 3   predicted_label  156 non-null    object\n",
      " 4   evidence         156 non-null    object\n",
      "dtypes: int64(1), object(4)\n",
      "memory usage: 7.3+ KB\n"
     ]
    }
   ],
   "source": [
    "TP = df[(df[\"true_label\"].isin([\"true\", \"mostly_true\"])) & \\\n",
    "     (df[\"predicted_label\"].isin([\"true\", \"mostly-true\"]))]\n",
    "TP.info()  "
   ]
  },
  {
   "cell_type": "code",
   "execution_count": 14,
   "id": "89a8cf46",
   "metadata": {
    "ExecuteTime": {
     "end_time": "2023-05-14T23:47:34.109079Z",
     "start_time": "2023-05-14T23:47:34.096654Z"
    }
   },
   "outputs": [
    {
     "data": {
      "text/html": [
       "<div>\n",
       "<style scoped>\n",
       "    .dataframe tbody tr th:only-of-type {\n",
       "        vertical-align: middle;\n",
       "    }\n",
       "\n",
       "    .dataframe tbody tr th {\n",
       "        vertical-align: top;\n",
       "    }\n",
       "\n",
       "    .dataframe thead th {\n",
       "        text-align: right;\n",
       "    }\n",
       "</style>\n",
       "<table border=\"1\" class=\"dataframe\">\n",
       "  <thead>\n",
       "    <tr style=\"text-align: right;\">\n",
       "      <th></th>\n",
       "      <th>statement</th>\n",
       "      <th>true_label</th>\n",
       "      <th>idx</th>\n",
       "      <th>predicted_label</th>\n",
       "      <th>evidence</th>\n",
       "    </tr>\n",
       "  </thead>\n",
       "  <tbody>\n",
       "    <tr>\n",
       "      <th>0</th>\n",
       "      <td>Building a wall on the U.S.-Mexico border will take literally years.</td>\n",
       "      <td>true</td>\n",
       "      <td>0</td>\n",
       "      <td>true</td>\n",
       "      <td>\"according to a report by the government accountability office, it took an average of 4.5 years to complete the construction of the 654 miles of fencing already in place along the border as of 2015.\" (source: npr, \"how long would it take to build trump's wall?,\" january 25, 2017)</td>\n",
       "    </tr>\n",
       "    <tr>\n",
       "      <th>5</th>\n",
       "      <td>Over the past five years the federal government has paid out $601 million in retirement and disability benefits to deceased former federal employees.</td>\n",
       "      <td>true</td>\n",
       "      <td>5</td>\n",
       "      <td>mostly-true</td>\n",
       "      <td>according to a report by the office of personnel management, from 2014 to 2019, the federal government paid out $601 million in retirement and disability benefits to deceased former federal employees. however, it is important to note that the report also states that the majority of these payments were made in error and were later recovered by the government. (source: npr, \"federal government paid $601 million in benefits to dead people,\" july 6, 2020)</td>\n",
       "    </tr>\n",
       "    <tr>\n",
       "      <th>15</th>\n",
       "      <td>Says the unemployment rate for college graduates is 4.4 percent and over 10 percent for noncollege-educated.</td>\n",
       "      <td>true</td>\n",
       "      <td>15</td>\n",
       "      <td>mostly-true</td>\n",
       "      <td>according to the bureau of labor statistics, as of august 2021, the unemployment rate for individuals with a bachelor's degree or higher is 3.2 percent, while the unemployment rate for those with less than a high school diploma is 9.0 percent and for those with a high school diploma but no college is 6.0 percent. however, the statement is mostly true as it is close to the actual figures and the difference between the two rates is significant. source: https://www.bls.gov/web/empsit/cpsee_e16.htm</td>\n",
       "    </tr>\n",
       "    <tr>\n",
       "      <th>18</th>\n",
       "      <td>Each year, 18,000 people die in America because they don't have health care.</td>\n",
       "      <td>true</td>\n",
       "      <td>18</td>\n",
       "      <td>mostly-true</td>\n",
       "      <td>according to a study published in the american journal of public health in 2009, an estimated 44,789 americans die each year due to lack of health insurance. however, this number has been disputed and some experts argue that it may be an overestimate.</td>\n",
       "    </tr>\n",
       "    <tr>\n",
       "      <th>25</th>\n",
       "      <td>Now, there was a time when someone like Scalia and Ginsburg got 95-plus votes.</td>\n",
       "      <td>true</td>\n",
       "      <td>25</td>\n",
       "      <td>mostly-true</td>\n",
       "      <td>according to a fact-check by politifact, supreme court justices antonin scalia and ruth bader ginsburg were both confirmed with overwhelming bipartisan support in the senate. scalia was confirmed with a vote of 98-0 in 1986, and ginsburg was confirmed with a vote of 96-3 in 1993. however, it should be noted that the statement in question does not specify which confirmation process or which specific vote it is referring to.</td>\n",
       "    </tr>\n",
       "  </tbody>\n",
       "</table>\n",
       "</div>"
      ],
      "text/plain": [
       "                                                                                                                                                statement  \\\n",
       "0                                                                                    Building a wall on the U.S.-Mexico border will take literally years.   \n",
       "5   Over the past five years the federal government has paid out $601 million in retirement and disability benefits to deceased former federal employees.   \n",
       "15                                           Says the unemployment rate for college graduates is 4.4 percent and over 10 percent for noncollege-educated.   \n",
       "18                                                                           Each year, 18,000 people die in America because they don't have health care.   \n",
       "25                                                                         Now, there was a time when someone like Scalia and Ginsburg got 95-plus votes.   \n",
       "\n",
       "   true_label  idx predicted_label  \\\n",
       "0        true    0            true   \n",
       "5        true    5     mostly-true   \n",
       "15       true   15     mostly-true   \n",
       "18       true   18     mostly-true   \n",
       "25       true   25     mostly-true   \n",
       "\n",
       "                                                                                                                                                                                                                                                                                                                                                                                                                                                                                                               evidence  \n",
       "0                                                                                                                                                                                                                              \"according to a report by the government accountability office, it took an average of 4.5 years to complete the construction of the 654 miles of fencing already in place along the border as of 2015.\" (source: npr, \"how long would it take to build trump's wall?,\" january 25, 2017)  \n",
       "5                                               according to a report by the office of personnel management, from 2014 to 2019, the federal government paid out $601 million in retirement and disability benefits to deceased former federal employees. however, it is important to note that the report also states that the majority of these payments were made in error and were later recovered by the government. (source: npr, \"federal government paid $601 million in benefits to dead people,\" july 6, 2020)  \n",
       "15  according to the bureau of labor statistics, as of august 2021, the unemployment rate for individuals with a bachelor's degree or higher is 3.2 percent, while the unemployment rate for those with less than a high school diploma is 9.0 percent and for those with a high school diploma but no college is 6.0 percent. however, the statement is mostly true as it is close to the actual figures and the difference between the two rates is significant. source: https://www.bls.gov/web/empsit/cpsee_e16.htm  \n",
       "18                                                                                                                                                                                                                                                          according to a study published in the american journal of public health in 2009, an estimated 44,789 americans die each year due to lack of health insurance. however, this number has been disputed and some experts argue that it may be an overestimate.  \n",
       "25                                                                           according to a fact-check by politifact, supreme court justices antonin scalia and ruth bader ginsburg were both confirmed with overwhelming bipartisan support in the senate. scalia was confirmed with a vote of 98-0 in 1986, and ginsburg was confirmed with a vote of 96-3 in 1993. however, it should be noted that the statement in question does not specify which confirmation process or which specific vote it is referring to.  "
      ]
     },
     "execution_count": 14,
     "metadata": {},
     "output_type": "execute_result"
    }
   ],
   "source": [
    "TP.head()"
   ]
  }
 ],
 "metadata": {
  "kernelspec": {
   "display_name": "Python 3 (ipykernel)",
   "language": "python",
   "name": "python3"
  },
  "language_info": {
   "codemirror_mode": {
    "name": "ipython",
    "version": 3
   },
   "file_extension": ".py",
   "mimetype": "text/x-python",
   "name": "python",
   "nbconvert_exporter": "python",
   "pygments_lexer": "ipython3",
   "version": "3.9.16"
  }
 },
 "nbformat": 4,
 "nbformat_minor": 5
}
