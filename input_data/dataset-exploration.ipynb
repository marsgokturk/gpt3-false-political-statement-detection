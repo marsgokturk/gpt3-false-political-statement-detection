{
 "cells": [
  {
   "cell_type": "code",
   "execution_count": 1,
   "id": "a955166f",
   "metadata": {},
   "outputs": [],
   "source": [
    "__author__ = \"Mars Gokturk Buchholz\"\n",
    "__version__ = \"CS224u, Stanford, Winter 2023\""
   ]
  },
  {
   "cell_type": "markdown",
   "id": "c29f4145",
   "metadata": {},
   "source": [
    "- [LIAR dataset](https://paperswithcode.com/paper/liar-liar-pants-on-fire-a-new-benchmark)\n",
    "This dataset consists of short statements, so probably it is not easy to detect the noise level. \n",
    "- Liar dataset paper: https://arxiv.org/pdf/1705.00648v1.pdf"
   ]
  },
  {
   "cell_type": "markdown",
   "id": "6e072c68",
   "metadata": {},
   "source": [
    "## Read Downloaded dataset"
   ]
  },
  {
   "cell_type": "code",
   "execution_count": 2,
   "id": "f629115f",
   "metadata": {},
   "outputs": [],
   "source": [
    "import pandas as pd\n",
    "import numpy as np"
   ]
  },
  {
   "cell_type": "code",
   "execution_count": 3,
   "id": "c3977072",
   "metadata": {},
   "outputs": [],
   "source": [
    "tr_df = pd.read_csv(\"../input_data/train.tsv\", delimiter=\"\\t\",header=None,\n",
    "            names=[\"id\", \"label\", \"statement\", \"subject\",\n",
    "             \"speaker\", \"speaker_job_title\", \"state_info\",\n",
    "             \"party_affiliation\",\n",
    "             \"barely_true_c\", \"half_true_c\", \"false_c\", \"mostly_true_c\",\n",
    "             \"pantsonfire_c\", \"context\"])\n",
    "\n",
    "vl_df = pd.read_csv(\"../input_data/valid.tsv\", delimiter=\"\\t\",header=None,\n",
    "            names=[\"id\", \"label\", \"statement\", \"subject\",\n",
    "             \"speaker\", \"speaker_job_title\", \"state_info\",\n",
    "             \"party_affiliation\",\n",
    "             \"barely_true_c\", \"half_true_c\", \"false_c\", \"mostly_true_c\",\n",
    "             \"pantsonfire_c\", \"context\"])\n",
    "\n",
    "tt_df = pd.read_csv(\"../input_data/test.tsv\", delimiter=\"\\t\",header=None,\n",
    "            names=[\"id\", \"label\", \"statement\", \"subject\",\n",
    "             \"speaker\", \"speaker_job_title\", \"state_info\",\n",
    "             \"party_affiliation\",\n",
    "             \"barely_true_c\", \"half_true_c\", \"false_c\", \"mostly_true_c\",\n",
    "             \"pantsonfire_c\", \"context\"])"
   ]
  },
  {
   "cell_type": "code",
   "execution_count": 4,
   "id": "4178b954",
   "metadata": {},
   "outputs": [
    {
     "data": {
      "text/html": [
       "<div>\n",
       "<style scoped>\n",
       "    .dataframe tbody tr th:only-of-type {\n",
       "        vertical-align: middle;\n",
       "    }\n",
       "\n",
       "    .dataframe tbody tr th {\n",
       "        vertical-align: top;\n",
       "    }\n",
       "\n",
       "    .dataframe thead th {\n",
       "        text-align: right;\n",
       "    }\n",
       "</style>\n",
       "<table border=\"1\" class=\"dataframe\">\n",
       "  <thead>\n",
       "    <tr style=\"text-align: right;\">\n",
       "      <th></th>\n",
       "      <th>id</th>\n",
       "      <th>label</th>\n",
       "      <th>statement</th>\n",
       "      <th>subject</th>\n",
       "      <th>speaker</th>\n",
       "      <th>speaker_job_title</th>\n",
       "      <th>state_info</th>\n",
       "      <th>party_affiliation</th>\n",
       "      <th>barely_true_c</th>\n",
       "      <th>half_true_c</th>\n",
       "      <th>false_c</th>\n",
       "      <th>mostly_true_c</th>\n",
       "      <th>pantsonfire_c</th>\n",
       "      <th>context</th>\n",
       "    </tr>\n",
       "  </thead>\n",
       "  <tbody>\n",
       "    <tr>\n",
       "      <th>0</th>\n",
       "      <td>2635.json</td>\n",
       "      <td>false</td>\n",
       "      <td>Says the Annies List political group supports third-trimester abortions on demand.</td>\n",
       "      <td>abortion</td>\n",
       "      <td>dwayne-bohac</td>\n",
       "      <td>State representative</td>\n",
       "      <td>Texas</td>\n",
       "      <td>republican</td>\n",
       "      <td>0.0</td>\n",
       "      <td>1.0</td>\n",
       "      <td>0.0</td>\n",
       "      <td>0.0</td>\n",
       "      <td>0.0</td>\n",
       "      <td>a mailer</td>\n",
       "    </tr>\n",
       "  </tbody>\n",
       "</table>\n",
       "</div>"
      ],
      "text/plain": [
       "          id  label  \\\n",
       "0  2635.json  false   \n",
       "\n",
       "                                                                            statement  \\\n",
       "0  Says the Annies List political group supports third-trimester abortions on demand.   \n",
       "\n",
       "    subject       speaker     speaker_job_title state_info party_affiliation  \\\n",
       "0  abortion  dwayne-bohac  State representative      Texas        republican   \n",
       "\n",
       "   barely_true_c  half_true_c  false_c  mostly_true_c  pantsonfire_c   context  \n",
       "0            0.0          1.0      0.0            0.0            0.0  a mailer  "
      ]
     },
     "execution_count": 4,
     "metadata": {},
     "output_type": "execute_result"
    }
   ],
   "source": [
    "pd.set_option('display.max_colwidth', None)\n",
    "tr_df.head(1)"
   ]
  },
  {
   "cell_type": "code",
   "execution_count": 5,
   "id": "64923907",
   "metadata": {},
   "outputs": [
    {
     "data": {
      "text/html": [
       "<div>\n",
       "<style scoped>\n",
       "    .dataframe tbody tr th:only-of-type {\n",
       "        vertical-align: middle;\n",
       "    }\n",
       "\n",
       "    .dataframe tbody tr th {\n",
       "        vertical-align: top;\n",
       "    }\n",
       "\n",
       "    .dataframe thead th {\n",
       "        text-align: right;\n",
       "    }\n",
       "</style>\n",
       "<table border=\"1\" class=\"dataframe\">\n",
       "  <thead>\n",
       "    <tr style=\"text-align: right;\">\n",
       "      <th></th>\n",
       "      <th>9750</th>\n",
       "    </tr>\n",
       "  </thead>\n",
       "  <tbody>\n",
       "    <tr>\n",
       "      <th>id</th>\n",
       "      <td>5822.json</td>\n",
       "    </tr>\n",
       "    <tr>\n",
       "      <th>label</th>\n",
       "      <td>barely-true</td>\n",
       "    </tr>\n",
       "    <tr>\n",
       "      <th>statement</th>\n",
       "      <td>Some 20,000 Delphi salaried retirees lost up to 70 percent of their pensions as a result of political favoritism and backroom deals.</td>\n",
       "    </tr>\n",
       "    <tr>\n",
       "      <th>subject</th>\n",
       "      <td>corporations,economy</td>\n",
       "    </tr>\n",
       "    <tr>\n",
       "      <th>speaker</th>\n",
       "      <td>michael-turner</td>\n",
       "    </tr>\n",
       "    <tr>\n",
       "      <th>speaker_job_title</th>\n",
       "      <td>Representative from Ohio's 3rd Congressional District</td>\n",
       "    </tr>\n",
       "    <tr>\n",
       "      <th>state_info</th>\n",
       "      <td>Ohio</td>\n",
       "    </tr>\n",
       "    <tr>\n",
       "      <th>party_affiliation</th>\n",
       "      <td>republican</td>\n",
       "    </tr>\n",
       "    <tr>\n",
       "      <th>barely_true_c</th>\n",
       "      <td>1.0</td>\n",
       "    </tr>\n",
       "    <tr>\n",
       "      <th>half_true_c</th>\n",
       "      <td>0.0</td>\n",
       "    </tr>\n",
       "    <tr>\n",
       "      <th>false_c</th>\n",
       "      <td>2.0</td>\n",
       "    </tr>\n",
       "    <tr>\n",
       "      <th>mostly_true_c</th>\n",
       "      <td>0.0</td>\n",
       "    </tr>\n",
       "    <tr>\n",
       "      <th>pantsonfire_c</th>\n",
       "      <td>0.0</td>\n",
       "    </tr>\n",
       "    <tr>\n",
       "      <th>context</th>\n",
       "      <td>a statement supporting Mitt Romney</td>\n",
       "    </tr>\n",
       "  </tbody>\n",
       "</table>\n",
       "</div>"
      ],
      "text/plain": [
       "                                                                                                                                                   9750\n",
       "id                                                                                                                                            5822.json\n",
       "label                                                                                                                                       barely-true\n",
       "statement          Some 20,000 Delphi salaried retirees lost up to 70 percent of their pensions as a result of political favoritism and backroom deals.\n",
       "subject                                                                                                                            corporations,economy\n",
       "speaker                                                                                                                                  michael-turner\n",
       "speaker_job_title                                                                                 Representative from Ohio's 3rd Congressional District\n",
       "state_info                                                                                                                                         Ohio\n",
       "party_affiliation                                                                                                                            republican\n",
       "barely_true_c                                                                                                                                       1.0\n",
       "half_true_c                                                                                                                                         0.0\n",
       "false_c                                                                                                                                             2.0\n",
       "mostly_true_c                                                                                                                                       0.0\n",
       "pantsonfire_c                                                                                                                                       0.0\n",
       "context                                                                                                              a statement supporting Mitt Romney"
      ]
     },
     "metadata": {},
     "output_type": "display_data"
    },
    {
     "data": {
      "text/plain": [
       "9750    Some 20,000 Delphi salaried retirees lost up to 70 percent of their pensions as a result of political favoritism and backroom deals.\n",
       "Name: statement, dtype: object"
      ]
     },
     "execution_count": 5,
     "metadata": {},
     "output_type": "execute_result"
    }
   ],
   "source": [
    "s = tr_df.sample(1)\n",
    "display(s.T)\n",
    "s[\"statement\"]"
   ]
  },
  {
   "cell_type": "markdown",
   "id": "730017f1",
   "metadata": {},
   "source": [
    "## Average statement length"
   ]
  },
  {
   "cell_type": "code",
   "execution_count": 6,
   "id": "2988a181",
   "metadata": {},
   "outputs": [
    {
     "data": {
      "text/plain": [
       "17.965203054494967"
      ]
     },
     "execution_count": 6,
     "metadata": {},
     "output_type": "execute_result"
    }
   ],
   "source": [
    "statements = pd.concat([tr_df[\"statement\"], vl_df[\"statement\"]])\n",
    "statements.map(lambda x: len(x.split(\" \"))).mean()\n",
    "                        "
   ]
  },
  {
   "cell_type": "markdown",
   "id": "b8bc106d",
   "metadata": {},
   "source": [
    "## Label distribution"
   ]
  },
  {
   "cell_type": "code",
   "execution_count": 7,
   "id": "fd9e86c1",
   "metadata": {},
   "outputs": [
    {
     "data": {
      "text/plain": [
       "label\n",
       "barely-true    0.16\n",
       "false          0.19\n",
       "half-true      0.21\n",
       "mostly-true    0.19\n",
       "pants-fire     0.08\n",
       "true           0.16\n",
       "Name: id, dtype: float64"
      ]
     },
     "execution_count": 7,
     "metadata": {},
     "output_type": "execute_result"
    }
   ],
   "source": [
    "np.round(tr_df.groupby(\"label\").count() / len(tr_df),2)[\"id\"]"
   ]
  },
  {
   "cell_type": "code",
   "execution_count": 8,
   "id": "903cf1e4",
   "metadata": {},
   "outputs": [
    {
     "data": {
      "text/plain": [
       "label\n",
       "barely-true    0.18\n",
       "false          0.20\n",
       "half-true      0.19\n",
       "mostly-true    0.20\n",
       "pants-fire     0.09\n",
       "true           0.13\n",
       "Name: id, dtype: float64"
      ]
     },
     "execution_count": 8,
     "metadata": {},
     "output_type": "execute_result"
    }
   ],
   "source": [
    "np.round(vl_df.groupby(\"label\").count() / len(vl_df),2)[\"id\"]"
   ]
  },
  {
   "cell_type": "code",
   "execution_count": 9,
   "id": "0d2f7bfa",
   "metadata": {},
   "outputs": [
    {
     "data": {
      "text/plain": [
       "label\n",
       "barely-true    0.17\n",
       "false          0.20\n",
       "half-true      0.21\n",
       "mostly-true    0.19\n",
       "pants-fire     0.07\n",
       "true           0.16\n",
       "Name: id, dtype: float64"
      ]
     },
     "execution_count": 9,
     "metadata": {},
     "output_type": "execute_result"
    }
   ],
   "source": [
    "np.round(tt_df.groupby(\"label\").count() / len(tt_df),2)[\"id\"]"
   ]
  },
  {
   "cell_type": "markdown",
   "id": "f8685301",
   "metadata": {},
   "source": [
    "## Data size"
   ]
  },
  {
   "cell_type": "code",
   "execution_count": 11,
   "id": "1de225b6",
   "metadata": {},
   "outputs": [
    {
     "name": "stdout",
     "output_type": "stream",
     "text": [
      "<class 'pandas.core.frame.DataFrame'>\n",
      "RangeIndex: 10240 entries, 0 to 10239\n",
      "Data columns (total 14 columns):\n",
      " #   Column             Non-Null Count  Dtype  \n",
      "---  ------             --------------  -----  \n",
      " 0   id                 10240 non-null  object \n",
      " 1   label              10240 non-null  object \n",
      " 2   statement          10240 non-null  object \n",
      " 3   subject            10238 non-null  object \n",
      " 4   speaker            10238 non-null  object \n",
      " 5   speaker_job_title  7343 non-null   object \n",
      " 6   state_info         8032 non-null   object \n",
      " 7   party_affiliation  10238 non-null  object \n",
      " 8   barely_true_c      10238 non-null  float64\n",
      " 9   half_true_c        10238 non-null  float64\n",
      " 10  false_c            10238 non-null  float64\n",
      " 11  mostly_true_c      10238 non-null  float64\n",
      " 12  pantsonfire_c      10238 non-null  float64\n",
      " 13  context            10138 non-null  object \n",
      "dtypes: float64(5), object(9)\n",
      "memory usage: 1.1+ MB\n"
     ]
    }
   ],
   "source": [
    "tr_df.info()"
   ]
  },
  {
   "cell_type": "code",
   "execution_count": 12,
   "id": "a0eeb132",
   "metadata": {},
   "outputs": [
    {
     "data": {
      "text/plain": [
       "7865    remarks at the 2015 New Hampshire Democratic Party State Convention\n",
       "372                                                  remarks in San Antonio\n",
       "2256                                                          a chain email\n",
       "7825                                the Republican debate in Houston, Texas\n",
       "6268                                                              a speech.\n",
       "2266                                                               a debate\n",
       "8092                                                       on their website\n",
       "950                                                   as quoted by Politico\n",
       "9405                                                         a chain e-mail\n",
       "6947                                        an Ohio House committee hearing\n",
       "Name: context, dtype: object"
      ]
     },
     "execution_count": 12,
     "metadata": {},
     "output_type": "execute_result"
    }
   ],
   "source": [
    "tr_df[\"context\"].sample(10)"
   ]
  },
  {
   "cell_type": "code",
   "execution_count": null,
   "id": "998db104",
   "metadata": {},
   "outputs": [],
   "source": []
  }
 ],
 "metadata": {
  "kernelspec": {
   "display_name": "Python 3 (ipykernel)",
   "language": "python",
   "name": "python3"
  },
  "language_info": {
   "codemirror_mode": {
    "name": "ipython",
    "version": 3
   },
   "file_extension": ".py",
   "mimetype": "text/x-python",
   "name": "python",
   "nbconvert_exporter": "python",
   "pygments_lexer": "ipython3",
   "version": "3.9.16"
  }
 },
 "nbformat": 4,
 "nbformat_minor": 5
}
