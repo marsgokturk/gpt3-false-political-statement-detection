{
 "cells": [
  {
   "cell_type": "code",
   "execution_count": 1,
   "id": "a955166f",
   "metadata": {},
   "outputs": [],
   "source": [
    "__author__ = \"Mars Gokturk Buchholz\"\n",
    "__version__ = \"CS224u, Stanford, Winter 2023\""
   ]
  },
  {
   "cell_type": "markdown",
   "id": "c29f4145",
   "metadata": {},
   "source": [
    "- [LIAR dataset](https://paperswithcode.com/paper/liar-liar-pants-on-fire-a-new-benchmark)\n",
    "This dataset consists of short statements, so probably it is not easy to detect the noise level. \n",
    "- Liar dataset paper: https://arxiv.org/pdf/1705.00648v1.pdf"
   ]
  },
  {
   "cell_type": "markdown",
   "id": "6e072c68",
   "metadata": {},
   "source": [
    "## Read Downloaded dataset"
   ]
  },
  {
   "cell_type": "code",
   "execution_count": 1,
   "id": "5c575466",
   "metadata": {},
   "outputs": [
    {
     "name": "stdout",
     "output_type": "stream",
     "text": [
      "README\n",
      "test.tsv\n",
      "train.tsv\n",
      "valid.tsv\n"
     ]
    }
   ],
   "source": [
    "%%bash\n",
    "ls liar_dataset"
   ]
  },
  {
   "cell_type": "code",
   "execution_count": 2,
   "id": "f629115f",
   "metadata": {},
   "outputs": [],
   "source": [
    "import pandas as pd\n",
    "import numpy as np"
   ]
  },
  {
   "cell_type": "code",
   "execution_count": 3,
   "id": "c3977072",
   "metadata": {},
   "outputs": [],
   "source": [
    "tr_df = pd.read_csv(\"train.tsv\", delimiter=\"\\t\",header=None,\n",
    "            names=[\"id\", \"label\", \"statement\", \"subject\",\n",
    "             \"speaker\", \"speaker_job_title\", \"state_info\",\n",
    "             \"party_affiliation\",\n",
    "             \"barely_true_c\", \"half_true_c\", \"false_c\", \"mostly_true_c\",\n",
    "             \"pantsonfire_c\", \"context\"])\n",
    "\n",
    "vl_df = pd.read_csv(\"valid.tsv\", delimiter=\"\\t\",header=None,\n",
    "            names=[\"id\", \"label\", \"statement\", \"subject\",\n",
    "             \"speaker\", \"speaker_job_title\", \"state_info\",\n",
    "             \"party_affiliation\",\n",
    "             \"barely_true_c\", \"half_true_c\", \"false_c\", \"mostly_true_c\",\n",
    "             \"pantsonfire_c\", \"context\"])\n",
    "\n",
    "tt_df = pd.read_csv(\"test.tsv\", delimiter=\"\\t\",header=None,\n",
    "            names=[\"id\", \"label\", \"statement\", \"subject\",\n",
    "             \"speaker\", \"speaker_job_title\", \"state_info\",\n",
    "             \"party_affiliation\",\n",
    "             \"barely_true_c\", \"half_true_c\", \"false_c\", \"mostly_true_c\",\n",
    "             \"pantsonfire_c\", \"context\"])"
   ]
  },
  {
   "cell_type": "code",
   "execution_count": 4,
   "id": "4178b954",
   "metadata": {},
   "outputs": [
    {
     "data": {
      "text/html": [
       "<div>\n",
       "<style scoped>\n",
       "    .dataframe tbody tr th:only-of-type {\n",
       "        vertical-align: middle;\n",
       "    }\n",
       "\n",
       "    .dataframe tbody tr th {\n",
       "        vertical-align: top;\n",
       "    }\n",
       "\n",
       "    .dataframe thead th {\n",
       "        text-align: right;\n",
       "    }\n",
       "</style>\n",
       "<table border=\"1\" class=\"dataframe\">\n",
       "  <thead>\n",
       "    <tr style=\"text-align: right;\">\n",
       "      <th></th>\n",
       "      <th>id</th>\n",
       "      <th>label</th>\n",
       "      <th>statement</th>\n",
       "      <th>subject</th>\n",
       "      <th>speaker</th>\n",
       "      <th>speaker_job_title</th>\n",
       "      <th>state_info</th>\n",
       "      <th>party_affiliation</th>\n",
       "      <th>barely_true_c</th>\n",
       "      <th>half_true_c</th>\n",
       "      <th>false_c</th>\n",
       "      <th>mostly_true_c</th>\n",
       "      <th>pantsonfire_c</th>\n",
       "      <th>context</th>\n",
       "    </tr>\n",
       "  </thead>\n",
       "  <tbody>\n",
       "    <tr>\n",
       "      <th>0</th>\n",
       "      <td>2635.json</td>\n",
       "      <td>false</td>\n",
       "      <td>Says the Annies List political group supports third-trimester abortions on demand.</td>\n",
       "      <td>abortion</td>\n",
       "      <td>dwayne-bohac</td>\n",
       "      <td>State representative</td>\n",
       "      <td>Texas</td>\n",
       "      <td>republican</td>\n",
       "      <td>0.0</td>\n",
       "      <td>1.0</td>\n",
       "      <td>0.0</td>\n",
       "      <td>0.0</td>\n",
       "      <td>0.0</td>\n",
       "      <td>a mailer</td>\n",
       "    </tr>\n",
       "  </tbody>\n",
       "</table>\n",
       "</div>"
      ],
      "text/plain": [
       "          id  label  \\\n",
       "0  2635.json  false   \n",
       "\n",
       "                                                                            statement  \\\n",
       "0  Says the Annies List political group supports third-trimester abortions on demand.   \n",
       "\n",
       "    subject       speaker     speaker_job_title state_info party_affiliation  \\\n",
       "0  abortion  dwayne-bohac  State representative      Texas        republican   \n",
       "\n",
       "   barely_true_c  half_true_c  false_c  mostly_true_c  pantsonfire_c   context  \n",
       "0            0.0          1.0      0.0            0.0            0.0  a mailer  "
      ]
     },
     "execution_count": 4,
     "metadata": {},
     "output_type": "execute_result"
    }
   ],
   "source": [
    "pd.set_option('display.max_colwidth', None)\n",
    "tr_df.head(1)"
   ]
  },
  {
   "cell_type": "code",
   "execution_count": 5,
   "id": "64923907",
   "metadata": {},
   "outputs": [
    {
     "data": {
      "text/html": [
       "<div>\n",
       "<style scoped>\n",
       "    .dataframe tbody tr th:only-of-type {\n",
       "        vertical-align: middle;\n",
       "    }\n",
       "\n",
       "    .dataframe tbody tr th {\n",
       "        vertical-align: top;\n",
       "    }\n",
       "\n",
       "    .dataframe thead th {\n",
       "        text-align: right;\n",
       "    }\n",
       "</style>\n",
       "<table border=\"1\" class=\"dataframe\">\n",
       "  <thead>\n",
       "    <tr style=\"text-align: right;\">\n",
       "      <th></th>\n",
       "      <th>7668</th>\n",
       "    </tr>\n",
       "  </thead>\n",
       "  <tbody>\n",
       "    <tr>\n",
       "      <th>id</th>\n",
       "      <td>9205.json</td>\n",
       "    </tr>\n",
       "    <tr>\n",
       "      <th>label</th>\n",
       "      <td>half-true</td>\n",
       "    </tr>\n",
       "    <tr>\n",
       "      <th>statement</th>\n",
       "      <td>Says opposing the Paycheck Fairness Act is part of the Koch brothers agenda.</td>\n",
       "    </tr>\n",
       "    <tr>\n",
       "      <th>subject</th>\n",
       "      <td>congress,income,women</td>\n",
       "    </tr>\n",
       "    <tr>\n",
       "      <th>speaker</th>\n",
       "      <td>gary-peters</td>\n",
       "    </tr>\n",
       "    <tr>\n",
       "      <th>speaker_job_title</th>\n",
       "      <td>U.S. Representative</td>\n",
       "    </tr>\n",
       "    <tr>\n",
       "      <th>state_info</th>\n",
       "      <td>Michigan</td>\n",
       "    </tr>\n",
       "    <tr>\n",
       "      <th>party_affiliation</th>\n",
       "      <td>democrat</td>\n",
       "    </tr>\n",
       "    <tr>\n",
       "      <th>barely_true_c</th>\n",
       "      <td>0.0</td>\n",
       "    </tr>\n",
       "    <tr>\n",
       "      <th>half_true_c</th>\n",
       "      <td>0.0</td>\n",
       "    </tr>\n",
       "    <tr>\n",
       "      <th>false_c</th>\n",
       "      <td>1.0</td>\n",
       "    </tr>\n",
       "    <tr>\n",
       "      <th>mostly_true_c</th>\n",
       "      <td>0.0</td>\n",
       "    </tr>\n",
       "    <tr>\n",
       "      <th>pantsonfire_c</th>\n",
       "      <td>0.0</td>\n",
       "    </tr>\n",
       "    <tr>\n",
       "      <th>context</th>\n",
       "      <td>a press release</td>\n",
       "    </tr>\n",
       "  </tbody>\n",
       "</table>\n",
       "</div>"
      ],
      "text/plain": [
       "                                                                                           7668\n",
       "id                                                                                    9205.json\n",
       "label                                                                                 half-true\n",
       "statement          Says opposing the Paycheck Fairness Act is part of the Koch brothers agenda.\n",
       "subject                                                                   congress,income,women\n",
       "speaker                                                                             gary-peters\n",
       "speaker_job_title                                                           U.S. Representative\n",
       "state_info                                                                             Michigan\n",
       "party_affiliation                                                                      democrat\n",
       "barely_true_c                                                                               0.0\n",
       "half_true_c                                                                                 0.0\n",
       "false_c                                                                                     1.0\n",
       "mostly_true_c                                                                               0.0\n",
       "pantsonfire_c                                                                               0.0\n",
       "context                                                                         a press release"
      ]
     },
     "metadata": {},
     "output_type": "display_data"
    },
    {
     "data": {
      "text/plain": [
       "7668    Says opposing the Paycheck Fairness Act is part of the Koch brothers agenda.\n",
       "Name: statement, dtype: object"
      ]
     },
     "execution_count": 5,
     "metadata": {},
     "output_type": "execute_result"
    }
   ],
   "source": [
    "s = tr_df.sample(1)\n",
    "display(s.T)\n",
    "s[\"statement\"]"
   ]
  },
  {
   "cell_type": "code",
   "execution_count": 6,
   "id": "fd9e86c1",
   "metadata": {},
   "outputs": [
    {
     "data": {
      "text/plain": [
       "label\n",
       "barely-true    0.16\n",
       "false          0.19\n",
       "half-true      0.21\n",
       "mostly-true    0.19\n",
       "pants-fire     0.08\n",
       "true           0.16\n",
       "Name: id, dtype: float64"
      ]
     },
     "execution_count": 6,
     "metadata": {},
     "output_type": "execute_result"
    }
   ],
   "source": [
    "np.round(tr_df.groupby(\"label\").count() / len(tr_df),2)[\"id\"]"
   ]
  },
  {
   "cell_type": "code",
   "execution_count": 7,
   "id": "903cf1e4",
   "metadata": {},
   "outputs": [
    {
     "data": {
      "text/plain": [
       "label\n",
       "barely-true    0.18\n",
       "false          0.20\n",
       "half-true      0.19\n",
       "mostly-true    0.20\n",
       "pants-fire     0.09\n",
       "true           0.13\n",
       "Name: id, dtype: float64"
      ]
     },
     "execution_count": 7,
     "metadata": {},
     "output_type": "execute_result"
    }
   ],
   "source": [
    "np.round(vl_df.groupby(\"label\").count() / len(vl_df),2)[\"id\"]"
   ]
  },
  {
   "cell_type": "code",
   "execution_count": 8,
   "id": "0d2f7bfa",
   "metadata": {},
   "outputs": [
    {
     "data": {
      "text/plain": [
       "label\n",
       "barely-true    0.17\n",
       "false          0.20\n",
       "half-true      0.21\n",
       "mostly-true    0.19\n",
       "pants-fire     0.07\n",
       "true           0.16\n",
       "Name: id, dtype: float64"
      ]
     },
     "execution_count": 8,
     "metadata": {},
     "output_type": "execute_result"
    }
   ],
   "source": [
    "np.round(tt_df.groupby(\"label\").count() / len(tt_df),2)[\"id\"]"
   ]
  },
  {
   "cell_type": "code",
   "execution_count": 9,
   "id": "1de225b6",
   "metadata": {},
   "outputs": [
    {
     "name": "stdout",
     "output_type": "stream",
     "text": [
      "<class 'pandas.core.frame.DataFrame'>\n",
      "RangeIndex: 10240 entries, 0 to 10239\n",
      "Data columns (total 14 columns):\n",
      " #   Column             Non-Null Count  Dtype  \n",
      "---  ------             --------------  -----  \n",
      " 0   id                 10240 non-null  object \n",
      " 1   label              10240 non-null  object \n",
      " 2   statement          10240 non-null  object \n",
      " 3   subject            10238 non-null  object \n",
      " 4   speaker            10238 non-null  object \n",
      " 5   speaker_job_title  7343 non-null   object \n",
      " 6   state_info         8032 non-null   object \n",
      " 7   party_affiliation  10238 non-null  object \n",
      " 8   barely_true_c      10238 non-null  float64\n",
      " 9   half_true_c        10238 non-null  float64\n",
      " 10  false_c            10238 non-null  float64\n",
      " 11  mostly_true_c      10238 non-null  float64\n",
      " 12  pantsonfire_c      10238 non-null  float64\n",
      " 13  context            10138 non-null  object \n",
      "dtypes: float64(5), object(9)\n",
      "memory usage: 1.1+ MB\n"
     ]
    }
   ],
   "source": [
    "tr_df.info()"
   ]
  },
  {
   "cell_type": "code",
   "execution_count": 10,
   "id": "a0eeb132",
   "metadata": {},
   "outputs": [
    {
     "data": {
      "text/plain": [
       "4471                                         a mailer to voters\n",
       "4833                                         a newspaper column\n",
       "2522                                              a campaign ad\n",
       "8871                                             a political ad\n",
       "6569    a speech at the Republican National Convention in Tampa\n",
       "5793                  Bay News 9 show, “Political Connections” \n",
       "1490                                      a debate in Las Vegas\n",
       "4256                  a speech at Milwaukee's Master Lock plant\n",
       "9001                                             an email blast\n",
       "715                                                      a blog\n",
       "Name: context, dtype: object"
      ]
     },
     "execution_count": 10,
     "metadata": {},
     "output_type": "execute_result"
    }
   ],
   "source": [
    "tr_df[\"context\"].sample(10)"
   ]
  },
  {
   "cell_type": "code",
   "execution_count": null,
   "id": "998db104",
   "metadata": {},
   "outputs": [],
   "source": []
  }
 ],
 "metadata": {
  "kernelspec": {
   "display_name": "Python 3 (ipykernel)",
   "language": "python",
   "name": "python3"
  },
  "language_info": {
   "codemirror_mode": {
    "name": "ipython",
    "version": 3
   },
   "file_extension": ".py",
   "mimetype": "text/x-python",
   "name": "python",
   "nbconvert_exporter": "python",
   "pygments_lexer": "ipython3",
   "version": "3.9.16"
  }
 },
 "nbformat": 4,
 "nbformat_minor": 5
}
